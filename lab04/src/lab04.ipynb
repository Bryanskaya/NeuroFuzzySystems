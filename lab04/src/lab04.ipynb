{
 "cells": [
  {
   "cell_type": "code",
   "execution_count": 63,
   "metadata": {},
   "outputs": [],
   "source": [
    "from sklearn.preprocessing import StandardScaler\n",
    "from sklearn.neural_network import MLPClassifier\n",
    "from sklearn.model_selection import train_test_split\n",
    "from sklearn.metrics import accuracy_score\n",
    "import numpy as np\n",
    "import pandas as pd\n",
    "import seaborn as sns\n",
    "from sklearn.utils import shuffle\n",
    "from sklearn.metrics import confusion_matrix\n",
    "import matplotlib.pyplot as plt"
   ]
  },
  {
   "attachments": {},
   "cell_type": "markdown",
   "metadata": {},
   "source": [
    "### Подготовка данных"
   ]
  },
  {
   "cell_type": "code",
   "execution_count": 64,
   "metadata": {},
   "outputs": [],
   "source": [
    "pd.set_option('display.max_columns', None)\n",
    "dfInit = pd.read_csv('../data/mushrooms.csv', delimiter=',', encoding='utf8')\n",
    "df = dfInit.copy(deep=True)\n",
    "df = shuffle(df)"
   ]
  },
  {
   "attachments": {},
   "cell_type": "markdown",
   "metadata": {},
   "source": [
    "#### Преобразование параметров"
   ]
  },
  {
   "cell_type": "code",
   "execution_count": 65,
   "metadata": {},
   "outputs": [],
   "source": [
    "def updateData(fieldName):\n",
    "    dataDf = list(set(df[fieldName].map(lambda elem: elem)))\n",
    "\n",
    "    cnt = 0\n",
    "    dataDict = {}\n",
    "    for shape in dataDf:\n",
    "        if shape not in dataDict.keys():\n",
    "            dataDict[shape] = cnt\n",
    "            cnt += 1\n",
    "    print(dataDict)\n",
    "\n",
    "    df[fieldName] = df[fieldName].map(lambda elem: dataDict[elem])"
   ]
  },
  {
   "cell_type": "code",
   "execution_count": 66,
   "metadata": {},
   "outputs": [
    {
     "name": "stdout",
     "output_type": "stream",
     "text": [
      "{'s': 0, 'f': 1, 'x': 2, 'k': 3, 'b': 4, 'c': 5}\n",
      "{'s': 0, 'y': 1, 'f': 2, 'g': 3}\n",
      "{'u': 0, 'w': 1, 'r': 2, 'n': 3, 'y': 4, 'p': 5, 'g': 6, 'b': 7, 'c': 8, 'e': 9}\n",
      "{'s': 0, 'f': 1, 'a': 2, 'n': 3, 'l': 4, 'y': 5, 'm': 6, 'p': 7, 'c': 8}\n",
      "{'f': 0, 'a': 1}\n",
      "{'u': 0, 'o': 1, 'w': 2, 'r': 3, 'h': 4, 'n': 5, 'k': 6, 'y': 7, 'p': 8, 'g': 9, 'b': 10, 'e': 11}\n",
      "{'e': 0, 't': 1}\n",
      "{'y': 0, 's': 1, 'f': 2, 'k': 3}\n",
      "{'s': 0, 'y': 1, 'f': 2, 'k': 3}\n",
      "{'o': 0, 'w': 1, 'n': 2, 'y': 3, 'p': 4, 'g': 5, 'b': 6, 'c': 7, 'e': 8}\n",
      "{'o': 0, 'w': 1, 'n': 2, 'y': 3, 'p': 4, 'g': 5, 'b': 6, 'c': 7, 'e': 8}\n",
      "{'f': 0, 'n': 1, 'l': 2, 'p': 3, 'e': 4}\n",
      "{'u': 0, 'o': 1, 'w': 2, 'r': 3, 'n': 4, 'k': 5, 'y': 6, 'h': 7, 'b': 8}\n",
      "{'v': 0, 's': 1, 'a': 2, 'n': 3, 'y': 4, 'c': 5}\n",
      "{'u': 0, 'w': 1, 'd': 2, 'l': 3, 'm': 4, 'p': 5, 'g': 6}\n"
     ]
    }
   ],
   "source": [
    "# ядовитость\n",
    "classDict = {'e': 0, 'p': 1} \n",
    "df['class'] = df['class'].map(lambda elem: classDict[elem])\n",
    "\n",
    "# форма шляпки \n",
    "updateData('cap-shape')\n",
    "\n",
    "# поверхность шляпки\n",
    "updateData('cap-surface')\n",
    "\n",
    "# цвет шляпки\n",
    "updateData('cap-color')\n",
    "\n",
    "# запах\n",
    "updateData('odor')\n",
    "\n",
    "# шляпка с обратной стороны\n",
    "updateData('gill-attachment')\n",
    "\n",
    "# цвет обратной стороны шляпки\n",
    "updateData('gill-color')\n",
    "\n",
    "# форма ножки\n",
    "updateData('stalk-shape')\n",
    "\n",
    "# поверхность стебля над/под кольцом\n",
    "updateData('stalk-surface-above-ring')\n",
    "updateData('stalk-surface-below-ring')\n",
    "\n",
    "# цвет поверхности стебля над/под кольцом\n",
    "updateData('stalk-color-above-ring')\n",
    "updateData('stalk-color-below-ring')\n",
    "\n",
    "# форма кольца\n",
    "updateData('ring-type')\n",
    "\n",
    "# цвет спор\n",
    "updateData('spore-print-color')\n",
    "\n",
    "# популяция\n",
    "updateData('population')\n",
    "\n",
    "# средаобитания\n",
    "updateData('habitat')"
   ]
  },
  {
   "cell_type": "code",
   "execution_count": 67,
   "metadata": {},
   "outputs": [],
   "source": [
    "del df['gill-spacing']\n",
    "del df['gill-size']\n",
    "del df['stalk-root']\n",
    "del df['veil-type']\n",
    "del df['veil-color']\n",
    "del df['ring-number']\n",
    "del df['bruises']\n",
    "del df['odor']"
   ]
  },
  {
   "cell_type": "code",
   "execution_count": 68,
   "metadata": {},
   "outputs": [
    {
     "data": {
      "text/html": [
       "<div>\n",
       "<style scoped>\n",
       "    .dataframe tbody tr th:only-of-type {\n",
       "        vertical-align: middle;\n",
       "    }\n",
       "\n",
       "    .dataframe tbody tr th {\n",
       "        vertical-align: top;\n",
       "    }\n",
       "\n",
       "    .dataframe thead th {\n",
       "        text-align: right;\n",
       "    }\n",
       "</style>\n",
       "<table border=\"1\" class=\"dataframe\">\n",
       "  <thead>\n",
       "    <tr style=\"text-align: right;\">\n",
       "      <th></th>\n",
       "      <th>class</th>\n",
       "      <th>cap-shape</th>\n",
       "      <th>cap-surface</th>\n",
       "      <th>cap-color</th>\n",
       "      <th>gill-attachment</th>\n",
       "      <th>gill-color</th>\n",
       "      <th>stalk-shape</th>\n",
       "      <th>stalk-surface-above-ring</th>\n",
       "      <th>stalk-surface-below-ring</th>\n",
       "      <th>stalk-color-above-ring</th>\n",
       "      <th>stalk-color-below-ring</th>\n",
       "      <th>ring-type</th>\n",
       "      <th>spore-print-color</th>\n",
       "      <th>population</th>\n",
       "      <th>habitat</th>\n",
       "    </tr>\n",
       "  </thead>\n",
       "  <tbody>\n",
       "    <tr>\n",
       "      <th>163</th>\n",
       "      <td>0</td>\n",
       "      <td>1</td>\n",
       "      <td>1</td>\n",
       "      <td>3</td>\n",
       "      <td>0</td>\n",
       "      <td>5</td>\n",
       "      <td>0</td>\n",
       "      <td>1</td>\n",
       "      <td>1</td>\n",
       "      <td>1</td>\n",
       "      <td>1</td>\n",
       "      <td>3</td>\n",
       "      <td>4</td>\n",
       "      <td>4</td>\n",
       "      <td>6</td>\n",
       "    </tr>\n",
       "    <tr>\n",
       "      <th>2386</th>\n",
       "      <td>0</td>\n",
       "      <td>2</td>\n",
       "      <td>1</td>\n",
       "      <td>9</td>\n",
       "      <td>0</td>\n",
       "      <td>2</td>\n",
       "      <td>1</td>\n",
       "      <td>1</td>\n",
       "      <td>0</td>\n",
       "      <td>5</td>\n",
       "      <td>5</td>\n",
       "      <td>3</td>\n",
       "      <td>5</td>\n",
       "      <td>4</td>\n",
       "      <td>2</td>\n",
       "    </tr>\n",
       "    <tr>\n",
       "      <th>2888</th>\n",
       "      <td>0</td>\n",
       "      <td>1</td>\n",
       "      <td>1</td>\n",
       "      <td>9</td>\n",
       "      <td>0</td>\n",
       "      <td>2</td>\n",
       "      <td>1</td>\n",
       "      <td>1</td>\n",
       "      <td>0</td>\n",
       "      <td>4</td>\n",
       "      <td>4</td>\n",
       "      <td>3</td>\n",
       "      <td>5</td>\n",
       "      <td>0</td>\n",
       "      <td>2</td>\n",
       "    </tr>\n",
       "    <tr>\n",
       "      <th>3979</th>\n",
       "      <td>0</td>\n",
       "      <td>1</td>\n",
       "      <td>2</td>\n",
       "      <td>9</td>\n",
       "      <td>0</td>\n",
       "      <td>2</td>\n",
       "      <td>1</td>\n",
       "      <td>1</td>\n",
       "      <td>0</td>\n",
       "      <td>1</td>\n",
       "      <td>4</td>\n",
       "      <td>3</td>\n",
       "      <td>4</td>\n",
       "      <td>0</td>\n",
       "      <td>2</td>\n",
       "    </tr>\n",
       "    <tr>\n",
       "      <th>5138</th>\n",
       "      <td>1</td>\n",
       "      <td>1</td>\n",
       "      <td>1</td>\n",
       "      <td>4</td>\n",
       "      <td>0</td>\n",
       "      <td>8</td>\n",
       "      <td>0</td>\n",
       "      <td>3</td>\n",
       "      <td>3</td>\n",
       "      <td>6</td>\n",
       "      <td>6</td>\n",
       "      <td>2</td>\n",
       "      <td>7</td>\n",
       "      <td>4</td>\n",
       "      <td>5</td>\n",
       "    </tr>\n",
       "    <tr>\n",
       "      <th>...</th>\n",
       "      <td>...</td>\n",
       "      <td>...</td>\n",
       "      <td>...</td>\n",
       "      <td>...</td>\n",
       "      <td>...</td>\n",
       "      <td>...</td>\n",
       "      <td>...</td>\n",
       "      <td>...</td>\n",
       "      <td>...</td>\n",
       "      <td>...</td>\n",
       "      <td>...</td>\n",
       "      <td>...</td>\n",
       "      <td>...</td>\n",
       "      <td>...</td>\n",
       "      <td>...</td>\n",
       "    </tr>\n",
       "    <tr>\n",
       "      <th>1617</th>\n",
       "      <td>0</td>\n",
       "      <td>1</td>\n",
       "      <td>2</td>\n",
       "      <td>6</td>\n",
       "      <td>0</td>\n",
       "      <td>6</td>\n",
       "      <td>1</td>\n",
       "      <td>1</td>\n",
       "      <td>0</td>\n",
       "      <td>1</td>\n",
       "      <td>1</td>\n",
       "      <td>4</td>\n",
       "      <td>4</td>\n",
       "      <td>2</td>\n",
       "      <td>6</td>\n",
       "    </tr>\n",
       "    <tr>\n",
       "      <th>3620</th>\n",
       "      <td>0</td>\n",
       "      <td>1</td>\n",
       "      <td>2</td>\n",
       "      <td>9</td>\n",
       "      <td>0</td>\n",
       "      <td>8</td>\n",
       "      <td>1</td>\n",
       "      <td>1</td>\n",
       "      <td>0</td>\n",
       "      <td>1</td>\n",
       "      <td>1</td>\n",
       "      <td>3</td>\n",
       "      <td>4</td>\n",
       "      <td>4</td>\n",
       "      <td>2</td>\n",
       "    </tr>\n",
       "    <tr>\n",
       "      <th>6467</th>\n",
       "      <td>1</td>\n",
       "      <td>1</td>\n",
       "      <td>0</td>\n",
       "      <td>9</td>\n",
       "      <td>0</td>\n",
       "      <td>10</td>\n",
       "      <td>1</td>\n",
       "      <td>3</td>\n",
       "      <td>0</td>\n",
       "      <td>1</td>\n",
       "      <td>4</td>\n",
       "      <td>4</td>\n",
       "      <td>2</td>\n",
       "      <td>0</td>\n",
       "      <td>5</td>\n",
       "    </tr>\n",
       "    <tr>\n",
       "      <th>4081</th>\n",
       "      <td>1</td>\n",
       "      <td>2</td>\n",
       "      <td>1</td>\n",
       "      <td>6</td>\n",
       "      <td>0</td>\n",
       "      <td>8</td>\n",
       "      <td>0</td>\n",
       "      <td>3</td>\n",
       "      <td>3</td>\n",
       "      <td>2</td>\n",
       "      <td>4</td>\n",
       "      <td>2</td>\n",
       "      <td>7</td>\n",
       "      <td>4</td>\n",
       "      <td>5</td>\n",
       "    </tr>\n",
       "    <tr>\n",
       "      <th>1390</th>\n",
       "      <td>0</td>\n",
       "      <td>2</td>\n",
       "      <td>2</td>\n",
       "      <td>6</td>\n",
       "      <td>0</td>\n",
       "      <td>2</td>\n",
       "      <td>1</td>\n",
       "      <td>1</td>\n",
       "      <td>0</td>\n",
       "      <td>5</td>\n",
       "      <td>1</td>\n",
       "      <td>3</td>\n",
       "      <td>5</td>\n",
       "      <td>4</td>\n",
       "      <td>2</td>\n",
       "    </tr>\n",
       "  </tbody>\n",
       "</table>\n",
       "<p>8124 rows × 15 columns</p>\n",
       "</div>"
      ],
      "text/plain": [
       "      class  cap-shape  cap-surface  cap-color  gill-attachment  gill-color  \\\n",
       "163       0          1            1          3                0           5   \n",
       "2386      0          2            1          9                0           2   \n",
       "2888      0          1            1          9                0           2   \n",
       "3979      0          1            2          9                0           2   \n",
       "5138      1          1            1          4                0           8   \n",
       "...     ...        ...          ...        ...              ...         ...   \n",
       "1617      0          1            2          6                0           6   \n",
       "3620      0          1            2          9                0           8   \n",
       "6467      1          1            0          9                0          10   \n",
       "4081      1          2            1          6                0           8   \n",
       "1390      0          2            2          6                0           2   \n",
       "\n",
       "      stalk-shape  stalk-surface-above-ring  stalk-surface-below-ring  \\\n",
       "163             0                         1                         1   \n",
       "2386            1                         1                         0   \n",
       "2888            1                         1                         0   \n",
       "3979            1                         1                         0   \n",
       "5138            0                         3                         3   \n",
       "...           ...                       ...                       ...   \n",
       "1617            1                         1                         0   \n",
       "3620            1                         1                         0   \n",
       "6467            1                         3                         0   \n",
       "4081            0                         3                         3   \n",
       "1390            1                         1                         0   \n",
       "\n",
       "      stalk-color-above-ring  stalk-color-below-ring  ring-type  \\\n",
       "163                        1                       1          3   \n",
       "2386                       5                       5          3   \n",
       "2888                       4                       4          3   \n",
       "3979                       1                       4          3   \n",
       "5138                       6                       6          2   \n",
       "...                      ...                     ...        ...   \n",
       "1617                       1                       1          4   \n",
       "3620                       1                       1          3   \n",
       "6467                       1                       4          4   \n",
       "4081                       2                       4          2   \n",
       "1390                       5                       1          3   \n",
       "\n",
       "      spore-print-color  population  habitat  \n",
       "163                   4           4        6  \n",
       "2386                  5           4        2  \n",
       "2888                  5           0        2  \n",
       "3979                  4           0        2  \n",
       "5138                  7           4        5  \n",
       "...                 ...         ...      ...  \n",
       "1617                  4           2        6  \n",
       "3620                  4           4        2  \n",
       "6467                  2           0        5  \n",
       "4081                  7           4        5  \n",
       "1390                  5           4        2  \n",
       "\n",
       "[8124 rows x 15 columns]"
      ]
     },
     "execution_count": 68,
     "metadata": {},
     "output_type": "execute_result"
    }
   ],
   "source": [
    "df"
   ]
  },
  {
   "attachments": {},
   "cell_type": "markdown",
   "metadata": {},
   "source": [
    "#### Разделение данных"
   ]
  },
  {
   "cell_type": "code",
   "execution_count": 69,
   "metadata": {},
   "outputs": [],
   "source": [
    "x = df.drop(['class'], axis=1)\n",
    "y = df['class']"
   ]
  },
  {
   "cell_type": "code",
   "execution_count": 70,
   "metadata": {},
   "outputs": [],
   "source": [
    "xTraining, xTest, yTraining, yTest = train_test_split(x, y, test_size = 0.3, random_state=42)"
   ]
  },
  {
   "cell_type": "code",
   "execution_count": 71,
   "metadata": {},
   "outputs": [],
   "source": [
    "scaler = StandardScaler()\n",
    "scaler.fit(xTraining)\n",
    "xTrainingTransf = scaler.transform(xTraining)\n",
    "xTestTransf = scaler.transform(xTest)"
   ]
  },
  {
   "attachments": {},
   "cell_type": "markdown",
   "metadata": {},
   "source": [
    "#### Многослойный перцептрон"
   ]
  },
  {
   "cell_type": "code",
   "execution_count": 72,
   "metadata": {},
   "outputs": [],
   "source": [
    "def calculateAccuracy(mlpcClf: MLPClassifier):\n",
    "    mlpcClf.fit(xTrainingTransf, yTraining)\n",
    "    return mlpcClf.score(xTestTransf, yTest)"
   ]
  },
  {
   "attachments": {},
   "cell_type": "markdown",
   "metadata": {},
   "source": [
    "##### Количество нейронов на 1 уровне"
   ]
  },
  {
   "cell_type": "code",
   "execution_count": 73,
   "metadata": {},
   "outputs": [
    {
     "name": "stdout",
     "output_type": "stream",
     "text": [
      "layerSize=(60,), accuracy=0.9954881050041017\n",
      "layerSize=(100,), accuracy=0.9954881050041017\n",
      "layerSize=(150,), accuracy=0.9934372436423298\n",
      "layerSize=(200,), accuracy=0.9942575881870386\n"
     ]
    },
    {
     "name": "stderr",
     "output_type": "stream",
     "text": [
      "c:\\Users\\bryan\\AppData\\Local\\Programs\\Python\\Python37\\lib\\site-packages\\sklearn\\neural_network\\_multilayer_perceptron.py:549: ConvergenceWarning: lbfgs failed to converge (status=1):\n",
      "STOP: TOTAL NO. of ITERATIONS REACHED LIMIT.\n",
      "\n",
      "Increase the number of iterations (max_iter) or scale the data as shown in:\n",
      "    https://scikit-learn.org/stable/modules/preprocessing.html\n",
      "  self.n_iter_ = _check_optimize_result(\"lbfgs\", opt_res, self.max_iter)\n"
     ]
    },
    {
     "name": "stdout",
     "output_type": "stream",
     "text": [
      "layerSize=(250,), accuracy=0.9942575881870386\n",
      "layerSize=(350,), accuracy=0.9930270713699754\n",
      "layerSize=(500,), accuracy=0.9917965545529123\n",
      "layerSize=(750,), accuracy=0.9913863822805579\n",
      "layerSize=(1000,), accuracy=0.9934372436423298\n"
     ]
    }
   ],
   "source": [
    "hiddenLayerSizeArr = [(60,), (100,), (150,), (200,), (250,), (350,), (500,), (750,), (1000,)]\n",
    "\n",
    "# activation=relu, solver=lbfgs, max_iter=200\n",
    "\n",
    "for layerSize in hiddenLayerSizeArr:\n",
    "    mlpcClf = MLPClassifier(\n",
    "        solver='lbfgs',\n",
    "        hidden_layer_sizes=layerSize, \n",
    "        early_stopping=True,\n",
    "        random_state=42)\n",
    "    print('layerSize={0}, accuracy={1}'.format(layerSize, calculateAccuracy(mlpcClf)))"
   ]
  },
  {
   "attachments": {},
   "cell_type": "markdown",
   "metadata": {},
   "source": [
    "##### Оптимизатор"
   ]
  },
  {
   "cell_type": "code",
   "execution_count": 74,
   "metadata": {},
   "outputs": [
    {
     "name": "stdout",
     "output_type": "stream",
     "text": [
      "solver=lbfgs, accuracy=0.9934372436423298\n",
      "solver=sgd, accuracy=0.9191960623461854\n",
      "solver=adam, accuracy=0.9922067268252666\n"
     ]
    }
   ],
   "source": [
    "solverArr = ['lbfgs', 'sgd', 'adam']\n",
    "\n",
    "# activation=relu, max_iter=200\n",
    "# 'lbfgs' -- для маленьких датасетов\n",
    "# 'sgd' -- стохастический градиентный спуск\n",
    "# 'adam' -- для больших датасетов\n",
    "for solver in solverArr:\n",
    "    mlpcClf = MLPClassifier(\n",
    "        solver=solver,\n",
    "        hidden_layer_sizes=(150,), \n",
    "        early_stopping=True,\n",
    "        random_state=42)\n",
    "    print('solver={0}, accuracy={1}'.format(solver, calculateAccuracy(mlpcClf)))"
   ]
  },
  {
   "attachments": {},
   "cell_type": "markdown",
   "metadata": {},
   "source": [
    "##### Функция активации"
   ]
  },
  {
   "cell_type": "code",
   "execution_count": 75,
   "metadata": {},
   "outputs": [
    {
     "name": "stdout",
     "output_type": "stream",
     "text": [
      "f=identity, accuracy=0.8695652173913043\n",
      "f=logistic, accuracy=0.9909762100082035\n",
      "f=tanh, accuracy=0.9942575881870386\n",
      "f=relu, accuracy=0.9934372436423298\n"
     ]
    }
   ],
   "source": [
    "fArr = ['identity', 'logistic', 'tanh', 'relu']\n",
    "\n",
    "# max_iter=200\n",
    "for f in fArr:\n",
    "    mlpcClf = MLPClassifier(\n",
    "        activation=f,\n",
    "        solver='lbfgs',\n",
    "        hidden_layer_sizes=(150,), \n",
    "        early_stopping=True,\n",
    "        random_state=42)\n",
    "    print('f={0}, accuracy={1}'.format(f, calculateAccuracy(mlpcClf)))"
   ]
  },
  {
   "attachments": {},
   "cell_type": "markdown",
   "metadata": {},
   "source": [
    "##### Число итераций"
   ]
  },
  {
   "cell_type": "code",
   "execution_count": 76,
   "metadata": {},
   "outputs": [
    {
     "name": "stdout",
     "output_type": "stream",
     "text": [
      "max_iter=200, accuracy=0.9934372436423298\n",
      "max_iter=500, accuracy=0.9934372436423298\n",
      "max_iter=700, accuracy=0.9934372436423298\n",
      "max_iter=1000, accuracy=0.9934372436423298\n"
     ]
    }
   ],
   "source": [
    "iterArr = [200, 500, 700, 1000]\n",
    "\n",
    "for iter in iterArr:\n",
    "    mlpcClf = MLPClassifier(\n",
    "        activation='relu',\n",
    "        solver='lbfgs',\n",
    "        hidden_layer_sizes=(150,), \n",
    "        early_stopping=True,\n",
    "        random_state=42,\n",
    "        max_iter=iter)\n",
    "    print('max_iter={0}, accuracy={1}'.format(iter, calculateAccuracy(mlpcClf)))"
   ]
  },
  {
   "attachments": {},
   "cell_type": "markdown",
   "metadata": {},
   "source": [
    "##### Несколько слоев"
   ]
  },
  {
   "cell_type": "code",
   "execution_count": 77,
   "metadata": {},
   "outputs": [],
   "source": [
    "# for level1 in range(500, 1000, 100):\n",
    "#     for level2 in range(level1, 1000, 100):\n",
    "#         for level3 in range(level2, 1000, 100):\n",
    "#             mlpcClf = MLPClassifier(\n",
    "#                 activation='relu',\n",
    "#                 solver='lbfgs',\n",
    "#                 hidden_layer_sizes=(level1, level3, level3), \n",
    "#                 early_stopping=True,\n",
    "#                 random_state=42,\n",
    "#                 max_iter=1000)\n",
    "#             print('level1={0}, level2={1}, level3={2}, accuracy={3}'.format(level1, level2, level3, calculateAccuracy(mlpcClf)))"
   ]
  },
  {
   "attachments": {},
   "cell_type": "markdown",
   "metadata": {},
   "source": [
    "##### Итоговый результат"
   ]
  },
  {
   "cell_type": "code",
   "execution_count": 78,
   "metadata": {},
   "outputs": [
    {
     "name": "stdout",
     "output_type": "stream",
     "text": [
      "accuracy=0.9934372436423298\n"
     ]
    }
   ],
   "source": [
    "mlpcClf = MLPClassifier(\n",
    "        activation='relu',\n",
    "        solver='lbfgs',\n",
    "        hidden_layer_sizes=(150,), \n",
    "        early_stopping=True,\n",
    "        random_state=42,\n",
    "        max_iter=200)\n",
    "print('accuracy={0}'.format(calculateAccuracy(mlpcClf)))"
   ]
  },
  {
   "cell_type": "code",
   "execution_count": 79,
   "metadata": {},
   "outputs": [
    {
     "data": {
      "image/png": "[encoded data removed]",
      "text/plain": [
       "<Figure size 640x480 with 2 Axes>"
      ]
     },
     "metadata": {},
     "output_type": "display_data"
    }
   ],
   "source": [
    "classes_names = ['0','1']\n",
    "cm = pd.DataFrame(confusion_matrix(yTest, mlpcClf.predict(xTestTransf)), columns=classes_names, index = classes_names)\n",
    "                  \n",
    "sns.heatmap(cm, annot=True, fmt='d')\n",
    "plt.show()"
   ]
  }
 ],
 "metadata": {
  "kernelspec": {
   "display_name": "Python 3",
   "language": "python",
   "name": "python3"
  },
  "language_info": {
   "codemirror_mode": {
    "name": "ipython",
    "version": 3
   },
   "file_extension": ".py",
   "mimetype": "text/x-python",
   "name": "python",
   "nbconvert_exporter": "python",
   "pygments_lexer": "ipython3",
   "version": "3.7.2"
  },
  "orig_nbformat": 4
 },
 "nbformat": 4,
 "nbformat_minor": 2
}
